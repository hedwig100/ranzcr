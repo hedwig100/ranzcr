{
 "cells": [
  {
   "cell_type": "code",
   "execution_count": 1,
   "metadata": {
    "_cell_guid": "b1076dfc-b9ad-4769-8c92-a6c4dae69d19",
    "_uuid": "8f2839f25d086af736a60e9eeb907d3b93b6e0e5",
    "execution": {
     "iopub.execute_input": "2021-03-16T08:25:40.349438Z",
     "iopub.status.busy": "2021-03-16T08:25:40.348635Z",
     "iopub.status.idle": "2021-03-16T08:25:42.758918Z",
     "shell.execute_reply": "2021-03-16T08:25:42.760028Z"
    },
    "papermill": {
     "duration": 2.42575,
     "end_time": "2021-03-16T08:25:42.760465",
     "exception": false,
     "start_time": "2021-03-16T08:25:40.334715",
     "status": "completed"
    },
    "tags": []
   },
   "outputs": [],
   "source": [
    "import numpy as np \n",
    "from sklearn.metrics import roc_auc_score \n",
    "import pandas as pd \n",
    "from numba import njit \n",
    "\n",
    "from sklearn.linear_model import LinearRegression "
   ]
  },
  {
   "cell_type": "code",
   "execution_count": 2,
   "metadata": {
    "execution": {
     "iopub.execute_input": "2021-03-16T08:25:42.782208Z",
     "iopub.status.busy": "2021-03-16T08:25:42.781292Z",
     "iopub.status.idle": "2021-03-16T08:25:42.783731Z",
     "shell.execute_reply": "2021-03-16T08:25:42.784220Z"
    },
    "papermill": {
     "duration": 0.017338,
     "end_time": "2021-03-16T08:25:42.784471",
     "exception": false,
     "start_time": "2021-03-16T08:25:42.767133",
     "status": "completed"
    },
    "tags": []
   },
   "outputs": [],
   "source": [
    "LABELS = np.array(['ETT - Abnormal', 'ETT - Borderline',\n",
    "       'ETT - Normal', 'NGT - Abnormal', 'NGT - Borderline',\n",
    "       'NGT - Incompletely Imaged', 'NGT - Normal', 'CVC - Abnormal',\n",
    "       'CVC - Borderline', 'CVC - Normal', 'Swan Ganz Catheter Present'])\n",
    "N_LABELS = 11 \n",
    "## Metrics\n",
    "def mean_roc_auc(targets,probabilities):\n",
    "    roc_auc = [roc_auc_score(targets[:,k],probabilities[:,k]) for k in range(N_LABELS)]\n",
    "    return np.average(roc_auc)"
   ]
  },
  {
   "cell_type": "code",
   "execution_count": 3,
   "metadata": {
    "execution": {
     "iopub.execute_input": "2021-03-16T08:25:42.801283Z",
     "iopub.status.busy": "2021-03-16T08:25:42.800475Z",
     "iopub.status.idle": "2021-03-16T08:25:42.808379Z",
     "shell.execute_reply": "2021-03-16T08:25:42.807735Z"
    },
    "papermill": {
     "duration": 0.017725,
     "end_time": "2021-03-16T08:25:42.808577",
     "exception": false,
     "start_time": "2021-03-16T08:25:42.790852",
     "status": "completed"
    },
    "tags": []
   },
   "outputs": [],
   "source": [
    "def rank_average(pred1,pred2,weight):\n",
    "    pred = np.zeros((pred1.shape[0],N_LABELS))\n",
    "    for k in range(N_LABELS):\n",
    "        pred1_ = np.argsort(np.argsort(pred1[:,k]))\n",
    "        pred2_ = np.argsort(np.argsort(pred2[:,k]))\n",
    "        pred[:,k] = pred1_*weight[0] + pred2_*weight[1] \n",
    "    return pred"
   ]
  },
  {
   "cell_type": "code",
   "execution_count": 4,
   "metadata": {
    "execution": {
     "iopub.execute_input": "2021-03-16T08:25:42.825447Z",
     "iopub.status.busy": "2021-03-16T08:25:42.824604Z",
     "iopub.status.idle": "2021-03-16T08:25:42.833842Z",
     "shell.execute_reply": "2021-03-16T08:25:42.834559Z"
    },
    "papermill": {
     "duration": 0.019914,
     "end_time": "2021-03-16T08:25:42.834804",
     "exception": false,
     "start_time": "2021-03-16T08:25:42.814890",
     "status": "completed"
    },
    "tags": []
   },
   "outputs": [],
   "source": [
    "def cv_ensemble(mode):\n",
    "    df = pd.read_csv(\"../input/ranzcr-sgkf-data/train_folds.csv\")\n",
    "    scores = [] \n",
    "    for fold in range(5):\n",
    "        print(\"-\"*50)\n",
    "        print(f\"FOLD {fold}\")\n",
    "        target = df[df.fold == fold][LABELS].values \n",
    "        pred1 = pd.read_csv(f\"../input/ranzcrfoldensemble/pred512_1_{fold}.csv\")[LABELS].values \n",
    "        pred2 = pd.read_csv(f\"../input/ranzcrfoldensemble/pred768_1_{fold}.csv\")[LABELS].values \n",
    "        pred3 = pd.read_csv(f\"../input/ranzcr-ensemble-clahe/pred_clahe_1_{fold}.csv\")[LABELS].values \n",
    "        pred4 = pd.read_csv(f\"../input/ranzcrensembletorch/pred_torch_1_{fold}.csv\")[LABELS].values \n",
    "        \n",
    "        if mode == 1:\n",
    "            pred = pred2*pred4**4 \n",
    "        else:\n",
    "            pred = rank_average(pred2,pred4,[0.1,0.9])\n",
    "        auc = mean_roc_auc(target,pred)\n",
    "        print(f\"AUC : {auc}\")\n",
    "        scores.append(auc)\n",
    "    print(f\"SCORE : {np.array(scores).mean()}\")"
   ]
  },
  {
   "cell_type": "code",
   "execution_count": 5,
   "metadata": {
    "execution": {
     "iopub.execute_input": "2021-03-16T08:25:42.852003Z",
     "iopub.status.busy": "2021-03-16T08:25:42.851195Z",
     "iopub.status.idle": "2021-03-16T08:25:44.220821Z",
     "shell.execute_reply": "2021-03-16T08:25:44.221718Z"
    },
    "papermill": {
     "duration": 1.380785,
     "end_time": "2021-03-16T08:25:44.222050",
     "exception": false,
     "start_time": "2021-03-16T08:25:42.841265",
     "status": "completed"
    },
    "tags": []
   },
   "outputs": [
    {
     "name": "stdout",
     "output_type": "stream",
     "text": [
      "--------------------------------------------------\n",
      "FOLD 0\n",
      "AUC : 0.9565153900748457\n",
      "--------------------------------------------------\n",
      "FOLD 1\n",
      "AUC : 0.9591074042720277\n",
      "--------------------------------------------------\n",
      "FOLD 2\n",
      "AUC : 0.9591848212524209\n",
      "--------------------------------------------------\n",
      "FOLD 3\n",
      "AUC : 0.9606599834918133\n",
      "--------------------------------------------------\n",
      "FOLD 4\n",
      "AUC : 0.9576358958537966\n",
      "SCORE : 0.9586206989889808\n"
     ]
    }
   ],
   "source": [
    "cv_ensemble(mode = 1)"
   ]
  },
  {
   "cell_type": "code",
   "execution_count": 6,
   "metadata": {
    "execution": {
     "iopub.execute_input": "2021-03-16T08:25:44.252831Z",
     "iopub.status.busy": "2021-03-16T08:25:44.251420Z",
     "iopub.status.idle": "2021-03-16T08:25:45.053141Z",
     "shell.execute_reply": "2021-03-16T08:25:45.052417Z"
    },
    "papermill": {
     "duration": 0.81772,
     "end_time": "2021-03-16T08:25:45.053308",
     "exception": false,
     "start_time": "2021-03-16T08:25:44.235588",
     "status": "completed"
    },
    "tags": []
   },
   "outputs": [
    {
     "name": "stdout",
     "output_type": "stream",
     "text": [
      "--------------------------------------------------\n",
      "FOLD 0\n",
      "AUC : 0.9564071651343173\n",
      "--------------------------------------------------\n",
      "FOLD 1\n",
      "AUC : 0.9589473147374427\n",
      "--------------------------------------------------\n",
      "FOLD 2\n",
      "AUC : 0.959221826709104\n",
      "--------------------------------------------------\n",
      "FOLD 3\n",
      "AUC : 0.9607274116286956\n",
      "--------------------------------------------------\n",
      "FOLD 4\n",
      "AUC : 0.95722404688108\n",
      "SCORE : 0.9585055530181279\n"
     ]
    }
   ],
   "source": [
    "cv_ensemble(mode = 2)"
   ]
  },
  {
   "cell_type": "code",
   "execution_count": null,
   "metadata": {
    "papermill": {
     "duration": 0.0102,
     "end_time": "2021-03-16T08:25:45.074266",
     "exception": false,
     "start_time": "2021-03-16T08:25:45.064066",
     "status": "completed"
    },
    "tags": []
   },
   "outputs": [],
   "source": []
  }
 ],
 "metadata": {
  "kernelspec": {
   "display_name": "Python 3",
   "language": "python",
   "name": "python3"
  },
  "language_info": {
   "codemirror_mode": {
    "name": "ipython",
    "version": 3
   },
   "file_extension": ".py",
   "mimetype": "text/x-python",
   "name": "python",
   "nbconvert_exporter": "python",
   "pygments_lexer": "ipython3",
   "version": "3.7.9"
  },
  "papermill": {
   "default_parameters": {},
   "duration": 13.356979,
   "end_time": "2021-03-16T08:25:46.100500",
   "environment_variables": {},
   "exception": null,
   "input_path": "__notebook__.ipynb",
   "output_path": "__notebook__.ipynb",
   "parameters": {},
   "start_time": "2021-03-16T08:25:32.743521",
   "version": "2.2.2"
  }
 },
 "nbformat": 4,
 "nbformat_minor": 4
}
