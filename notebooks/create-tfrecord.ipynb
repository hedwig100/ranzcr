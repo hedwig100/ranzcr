{
 "cells": [
  {
   "cell_type": "code",
   "execution_count": 1,
   "metadata": {
    "_cell_guid": "b1076dfc-b9ad-4769-8c92-a6c4dae69d19",
    "_uuid": "8f2839f25d086af736a60e9eeb907d3b93b6e0e5",
    "execution": {
     "iopub.execute_input": "2021-03-15T08:51:57.567761Z",
     "iopub.status.busy": "2021-03-15T08:51:57.566936Z",
     "iopub.status.idle": "2021-03-15T08:52:06.092450Z",
     "shell.execute_reply": "2021-03-15T08:52:06.092974Z"
    },
    "papermill": {
     "duration": 8.540606,
     "end_time": "2021-03-15T08:52:06.093306",
     "exception": false,
     "start_time": "2021-03-15T08:51:57.552700",
     "status": "completed"
    },
    "tags": []
   },
   "outputs": [],
   "source": [
    "import numpy as np\n",
    "import pandas as pd\n",
    "import tensorflow as tf\n",
    "from collections import Counter, defaultdict\n",
    "import re, os, cv2, random, warnings, shutil,tqdm\n",
    "import albumentations as albu\n",
    "\n",
    "def seed_everything(seed=0):\n",
    "    random.seed(seed)\n",
    "    np.random.seed(seed)\n",
    "    tf.random.set_seed(seed)\n",
    "    os.environ['PYTHONHASHSEED'] = str(seed)\n",
    "    os.environ['TF_DETERMINISTIC_OPS'] = '1'\n",
    "\n",
    "warnings.filterwarnings('ignore')"
   ]
  },
  {
   "cell_type": "code",
   "execution_count": 2,
   "metadata": {
    "execution": {
     "iopub.execute_input": "2021-03-15T08:52:06.116711Z",
     "iopub.status.busy": "2021-03-15T08:52:06.116032Z",
     "iopub.status.idle": "2021-03-15T08:52:06.119397Z",
     "shell.execute_reply": "2021-03-15T08:52:06.118768Z"
    },
    "papermill": {
     "duration": 0.020173,
     "end_time": "2021-03-15T08:52:06.119557",
     "exception": false,
     "start_time": "2021-03-15T08:52:06.099384",
     "status": "completed"
    },
    "tags": []
   },
   "outputs": [],
   "source": [
    "def _bytes_feature(value):\n",
    "    \"\"\"Returns a bytes_list from a string / byte.\"\"\"\n",
    "    if isinstance(value, type(tf.constant(0))):\n",
    "        value = value.numpy() # BytesList won't unpack a string from an EagerTensor.\n",
    "    return tf.train.Feature(bytes_list=tf.train.BytesList(value=[value]))\n",
    "\n",
    "def _int64_feature(value):\n",
    "    \"\"\"Returns an int64_list from a bool / enum / int / uint.\"\"\"\n",
    "    return tf.train.Feature(int64_list=tf.train.Int64List(value=[value]))\n",
    "\n",
    "def serialize_example(image,ETT_Abnormal,ETT_Borderline,ETT_Normal, NGT_Abnormal, NGT_Borderline, NGT_Incompletely_Imaged, NGT_Normal, CVC_Abnormal,CVC_Borderline, CVC_Normal, SwanGanzCatheterPresent, unique_id, patient_id):\n",
    "    feature = {\n",
    "      'image': _bytes_feature(image),\n",
    "      'ETT - Abnormal':_int64_feature(ETT_Abnormal) ,\n",
    "      'ETT - Borderline':_int64_feature(ETT_Borderline),\n",
    "      'ETT - Normal':_int64_feature(ETT_Normal),\n",
    "      'NGT - Abnormal':_int64_feature(NGT_Abnormal),\n",
    "      'NGT - Borderline':_int64_feature(NGT_Borderline),\n",
    "      'NGT - Incompletely Imaged':_int64_feature(NGT_Incompletely_Imaged),\n",
    "      'NGT - Normal':_int64_feature(NGT_Normal),\n",
    "      'CVC - Abnormal':_int64_feature(CVC_Abnormal),\n",
    "      'CVC - Borderline':_int64_feature(CVC_Borderline),\n",
    "      'CVC - Normal':_int64_feature(CVC_Normal),\n",
    "      'Swan Ganz Catheter Present':_int64_feature(SwanGanzCatheterPresent),\n",
    "      'StudyInstanceUID': _bytes_feature(unique_id),\n",
    "      'PatientID': _bytes_feature(patient_id)\n",
    "    }\n",
    "    example_proto = tf.train.Example(features=tf.train.Features(feature=feature))\n",
    "    return example_proto.SerializeToString()"
   ]
  },
  {
   "cell_type": "code",
   "execution_count": 3,
   "metadata": {
    "execution": {
     "iopub.execute_input": "2021-03-15T08:52:06.142228Z",
     "iopub.status.busy": "2021-03-15T08:52:06.141456Z",
     "iopub.status.idle": "2021-03-15T08:52:06.144282Z",
     "shell.execute_reply": "2021-03-15T08:52:06.143647Z"
    },
    "papermill": {
     "duration": 0.019552,
     "end_time": "2021-03-15T08:52:06.144431",
     "exception": false,
     "start_time": "2021-03-15T08:52:06.124879",
     "status": "completed"
    },
    "tags": []
   },
   "outputs": [],
   "source": [
    "def write_TFREC():\n",
    "    for tfrec_num in range(5):\n",
    "        print('\\nWriting TFRecord %i of %i...'%(tfrec_num, 5))\n",
    "        samples = sgkf[sgkf['fold'] == tfrec_num]\n",
    "        n_samples = len(samples)\n",
    "        print(f'{n_samples} samples')\n",
    "        tfrec_path = f\"train_{IMSIZE[0]}_{tfrec_num}.tfrec\"\n",
    "        with tf.io.TFRecordWriter(tfrec_path) as writer:\n",
    "            for idx,sample in tqdm.tqdm(samples.iterrows()):\n",
    "                ETT_Abnormal = sample['ETT - Abnormal']\n",
    "                ETT_Borderline = sample['ETT - Borderline']\n",
    "                ETT_Normal = sample['ETT - Normal']\n",
    "                NGT_Abnormal = sample['NGT - Abnormal']\n",
    "                NGT_Borderline = sample['NGT - Borderline']\n",
    "                NGT_Incompletely_Imaged = sample['NGT - Incompletely Imaged']\n",
    "                NGT_Normal = sample['NGT - Normal']\n",
    "                CVC_Abnormal = sample['CVC - Abnormal']\n",
    "                CVC_Borderline = sample[ 'CVC - Borderline']\n",
    "                CVC_Normal = sample['CVC - Normal']\n",
    "                SwanGanzCatheterPresent = sample['Swan Ganz Catheter Present']\n",
    "                patient_id = sample[\"PatientID\"]\n",
    "                image_name = sample[\"StudyInstanceUID\"] + \".jpg\"\n",
    "                img_path = f'{PATH}{image_name}'\n",
    "\n",
    "                img = cv2.imread(img_path)\n",
    "                img = cv2.resize(img,IMSIZE)\n",
    "                img = cv2.imencode('.jpg', img, (cv2.IMWRITE_JPEG_QUALITY, IMG_QUALITY))[1].tostring()\n",
    "                example = serialize_example(img,ETT_Abnormal,ETT_Borderline,ETT_Normal, NGT_Abnormal, NGT_Borderline, NGT_Incompletely_Imaged, NGT_Normal, CVC_Abnormal,CVC_Borderline, CVC_Normal, SwanGanzCatheterPresent, str.encode(image_name), str.encode(patient_id))\n",
    "                writer.write(example)"
   ]
  },
  {
   "cell_type": "code",
   "execution_count": 4,
   "metadata": {
    "execution": {
     "iopub.execute_input": "2021-03-15T08:52:06.161282Z",
     "iopub.status.busy": "2021-03-15T08:52:06.160491Z",
     "iopub.status.idle": "2021-03-15T08:52:06.294028Z",
     "shell.execute_reply": "2021-03-15T08:52:06.294529Z"
    },
    "papermill": {
     "duration": 0.144846,
     "end_time": "2021-03-15T08:52:06.294713",
     "exception": false,
     "start_time": "2021-03-15T08:52:06.149867",
     "status": "completed"
    },
    "tags": []
   },
   "outputs": [
    {
     "data": {
      "text/html": [
       "<div>\n",
       "<style scoped>\n",
       "    .dataframe tbody tr th:only-of-type {\n",
       "        vertical-align: middle;\n",
       "    }\n",
       "\n",
       "    .dataframe tbody tr th {\n",
       "        vertical-align: top;\n",
       "    }\n",
       "\n",
       "    .dataframe thead th {\n",
       "        text-align: right;\n",
       "    }\n",
       "</style>\n",
       "<table border=\"1\" class=\"dataframe\">\n",
       "  <thead>\n",
       "    <tr style=\"text-align: right;\">\n",
       "      <th></th>\n",
       "      <th>StudyInstanceUID</th>\n",
       "      <th>ETT - Abnormal</th>\n",
       "      <th>ETT - Borderline</th>\n",
       "      <th>ETT - Normal</th>\n",
       "      <th>NGT - Abnormal</th>\n",
       "      <th>NGT - Borderline</th>\n",
       "      <th>NGT - Incompletely Imaged</th>\n",
       "      <th>NGT - Normal</th>\n",
       "      <th>CVC - Abnormal</th>\n",
       "      <th>CVC - Borderline</th>\n",
       "      <th>CVC - Normal</th>\n",
       "      <th>Swan Ganz Catheter Present</th>\n",
       "      <th>PatientID</th>\n",
       "      <th>fold</th>\n",
       "    </tr>\n",
       "  </thead>\n",
       "  <tbody>\n",
       "    <tr>\n",
       "      <th>0</th>\n",
       "      <td>1.2.826.0.1.3680043.8.498.26697628953273228189...</td>\n",
       "      <td>0</td>\n",
       "      <td>0</td>\n",
       "      <td>0</td>\n",
       "      <td>0</td>\n",
       "      <td>0</td>\n",
       "      <td>0</td>\n",
       "      <td>1</td>\n",
       "      <td>0</td>\n",
       "      <td>0</td>\n",
       "      <td>0</td>\n",
       "      <td>0</td>\n",
       "      <td>ec89415d1</td>\n",
       "      <td>3</td>\n",
       "    </tr>\n",
       "    <tr>\n",
       "      <th>1</th>\n",
       "      <td>1.2.826.0.1.3680043.8.498.46302891597398758759...</td>\n",
       "      <td>0</td>\n",
       "      <td>0</td>\n",
       "      <td>1</td>\n",
       "      <td>0</td>\n",
       "      <td>0</td>\n",
       "      <td>1</td>\n",
       "      <td>0</td>\n",
       "      <td>0</td>\n",
       "      <td>0</td>\n",
       "      <td>1</td>\n",
       "      <td>0</td>\n",
       "      <td>bf4c6da3c</td>\n",
       "      <td>3</td>\n",
       "    </tr>\n",
       "    <tr>\n",
       "      <th>2</th>\n",
       "      <td>1.2.826.0.1.3680043.8.498.23819260719748494858...</td>\n",
       "      <td>0</td>\n",
       "      <td>0</td>\n",
       "      <td>0</td>\n",
       "      <td>0</td>\n",
       "      <td>0</td>\n",
       "      <td>0</td>\n",
       "      <td>0</td>\n",
       "      <td>0</td>\n",
       "      <td>1</td>\n",
       "      <td>0</td>\n",
       "      <td>0</td>\n",
       "      <td>3fc1c97e5</td>\n",
       "      <td>3</td>\n",
       "    </tr>\n",
       "    <tr>\n",
       "      <th>3</th>\n",
       "      <td>1.2.826.0.1.3680043.8.498.68286643202323212801...</td>\n",
       "      <td>0</td>\n",
       "      <td>0</td>\n",
       "      <td>0</td>\n",
       "      <td>0</td>\n",
       "      <td>0</td>\n",
       "      <td>0</td>\n",
       "      <td>0</td>\n",
       "      <td>1</td>\n",
       "      <td>0</td>\n",
       "      <td>0</td>\n",
       "      <td>0</td>\n",
       "      <td>c31019814</td>\n",
       "      <td>0</td>\n",
       "    </tr>\n",
       "    <tr>\n",
       "      <th>4</th>\n",
       "      <td>1.2.826.0.1.3680043.8.498.10050203009225938259...</td>\n",
       "      <td>0</td>\n",
       "      <td>0</td>\n",
       "      <td>0</td>\n",
       "      <td>0</td>\n",
       "      <td>0</td>\n",
       "      <td>0</td>\n",
       "      <td>0</td>\n",
       "      <td>0</td>\n",
       "      <td>0</td>\n",
       "      <td>1</td>\n",
       "      <td>0</td>\n",
       "      <td>207685cd1</td>\n",
       "      <td>0</td>\n",
       "    </tr>\n",
       "  </tbody>\n",
       "</table>\n",
       "</div>"
      ],
      "text/plain": [
       "                                    StudyInstanceUID  ETT - Abnormal  \\\n",
       "0  1.2.826.0.1.3680043.8.498.26697628953273228189...               0   \n",
       "1  1.2.826.0.1.3680043.8.498.46302891597398758759...               0   \n",
       "2  1.2.826.0.1.3680043.8.498.23819260719748494858...               0   \n",
       "3  1.2.826.0.1.3680043.8.498.68286643202323212801...               0   \n",
       "4  1.2.826.0.1.3680043.8.498.10050203009225938259...               0   \n",
       "\n",
       "   ETT - Borderline  ETT - Normal  NGT - Abnormal  NGT - Borderline  \\\n",
       "0                 0             0               0                 0   \n",
       "1                 0             1               0                 0   \n",
       "2                 0             0               0                 0   \n",
       "3                 0             0               0                 0   \n",
       "4                 0             0               0                 0   \n",
       "\n",
       "   NGT - Incompletely Imaged  NGT - Normal  CVC - Abnormal  CVC - Borderline  \\\n",
       "0                          0             1               0                 0   \n",
       "1                          1             0               0                 0   \n",
       "2                          0             0               0                 1   \n",
       "3                          0             0               1                 0   \n",
       "4                          0             0               0                 0   \n",
       "\n",
       "   CVC - Normal  Swan Ganz Catheter Present  PatientID  fold  \n",
       "0             0                           0  ec89415d1     3  \n",
       "1             1                           0  bf4c6da3c     3  \n",
       "2             0                           0  3fc1c97e5     3  \n",
       "3             0                           0  c31019814     0  \n",
       "4             1                           0  207685cd1     0  "
      ]
     },
     "execution_count": 4,
     "metadata": {},
     "output_type": "execute_result"
    }
   ],
   "source": [
    "sgkf = pd.read_csv(\"../input/ranzcr-sgkf-data/train_folds.csv\")\n",
    "LABELS = ['ETT - Abnormal', 'ETT - Borderline',\n",
    "       'ETT - Normal', 'NGT - Abnormal', 'NGT - Borderline',\n",
    "       'NGT - Incompletely Imaged', 'NGT - Normal', 'CVC - Abnormal',\n",
    "       'CVC - Borderline', 'CVC - Normal', 'Swan Ganz Catheter Present']\n",
    "sgkf.head()"
   ]
  },
  {
   "cell_type": "code",
   "execution_count": 5,
   "metadata": {
    "execution": {
     "iopub.execute_input": "2021-03-15T08:52:06.310719Z",
     "iopub.status.busy": "2021-03-15T08:52:06.310018Z",
     "iopub.status.idle": "2021-03-15T08:52:06.756366Z",
     "shell.execute_reply": "2021-03-15T08:52:06.756859Z"
    },
    "papermill": {
     "duration": 0.455889,
     "end_time": "2021-03-15T08:52:06.757042",
     "exception": false,
     "start_time": "2021-03-15T08:52:06.301153",
     "status": "completed"
    },
    "tags": []
   },
   "outputs": [
    {
     "name": "stdout",
     "output_type": "stream",
     "text": [
      "Image samples: 30083\n"
     ]
    }
   ],
   "source": [
    "database_base_path = '../input/ranzcr-clip-catheter-line-classification/'\n",
    "PATH = f'{database_base_path}train/'\n",
    "IMGS = os.listdir(PATH)\n",
    "IMG_QUALITY = 100\n",
    "IMSIZE = (512,512) \n",
    "print(f'Image samples: {len(IMGS)}')"
   ]
  },
  {
   "cell_type": "code",
   "execution_count": 6,
   "metadata": {
    "execution": {
     "iopub.execute_input": "2021-03-15T08:52:06.775665Z",
     "iopub.status.busy": "2021-03-15T08:52:06.774671Z",
     "iopub.status.idle": "2021-03-15T08:52:06.778030Z",
     "shell.execute_reply": "2021-03-15T08:52:06.777363Z"
    },
    "papermill": {
     "duration": 0.014364,
     "end_time": "2021-03-15T08:52:06.778187",
     "exception": false,
     "start_time": "2021-03-15T08:52:06.763823",
     "status": "completed"
    },
    "tags": []
   },
   "outputs": [],
   "source": [
    "#write_TFREC()"
   ]
  }
 ],
 "metadata": {
  "kernelspec": {
   "display_name": "Python 3",
   "language": "python",
   "name": "python3"
  },
  "language_info": {
   "codemirror_mode": {
    "name": "ipython",
    "version": 3
   },
   "file_extension": ".py",
   "mimetype": "text/x-python",
   "name": "python",
   "nbconvert_exporter": "python",
   "pygments_lexer": "ipython3",
   "version": "3.7.9"
  },
  "papermill": {
   "default_parameters": {},
   "duration": 16.588556,
   "end_time": "2021-03-15T08:52:07.896196",
   "environment_variables": {},
   "exception": null,
   "input_path": "__notebook__.ipynb",
   "output_path": "__notebook__.ipynb",
   "parameters": {},
   "start_time": "2021-03-15T08:51:51.307640",
   "version": "2.2.2"
  }
 },
 "nbformat": 4,
 "nbformat_minor": 4
}
