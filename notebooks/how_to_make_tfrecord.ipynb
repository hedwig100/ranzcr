{
 "cells": [
  {
   "cell_type": "code",
   "execution_count": 18,
   "id": "built-gregory",
   "metadata": {},
   "outputs": [],
   "source": [
    "import tensorflow as tf \n",
    "import numpy as np"
   ]
  },
  {
   "cell_type": "code",
   "execution_count": 22,
   "id": "portuguese-example",
   "metadata": {},
   "outputs": [
    {
     "name": "stdout",
     "output_type": "stream",
     "text": [
      "PATH SHAPE (16,)\n",
      "FEATURE SHAPE (16, 5)\n",
      "LABEL SHAPE (16,)\n"
     ]
    }
   ],
   "source": [
    "partial_train_paths = [\"1.2.826.0.1.3680043.8.498.10512646429067653616115199126403653207.jpg\",\n",
    "                      \"1.2.826.0.1.3680043.8.498.10553203729695529217457522953701922196.jpg\",\n",
    "                      \"1.2.826.0.1.3680043.8.498.10600230317881874653883891692747043009.jpg\",\n",
    "                      \"1.2.826.0.1.3680043.8.498.10624933077182432060278847366271157598.jpg\",\n",
    "                      \"1.2.826.0.1.3680043.8.498.11622806412637082718421427225521519105.jpg\",\n",
    "                      \"1.2.826.0.1.3680043.8.498.22722315540436745494925507742445314611.jpg\",\n",
    "                      \"1.2.826.0.1.3680043.8.498.24659262645697474332452835516529431375.jpg\",\n",
    "                      \"1.2.826.0.1.3680043.8.498.25104812635631369211532685559484916373.jpg\",\n",
    "                      \"1.2.826.0.1.3680043.8.498.26125446155146594477818772749289794656.jpg\",\n",
    "                      \"1.2.826.0.1.3680043.8.498.30175383221630293697688953326853182323.jpg\",\n",
    "                      \"1.2.826.0.1.3680043.8.498.39765309636918130294613488440061655672.jpg\",\n",
    "                      \"1.2.826.0.1.3680043.8.498.46964849257665456312075806312231735913.jpg\",\n",
    "                      \"1.2.826.0.1.3680043.8.498.55922793951803274282980287168731264210.jpg\",\n",
    "                      \"1.2.826.0.1.3680043.8.498.59008169249054242133470997981950698585.jpg\",\n",
    "                      \"1.2.826.0.1.3680043.8.498.74067092954277858591731369789552043856.jpg\",\n",
    "                      \"1.2.826.0.1.3680043.8.498.98113606368909263623427693214007380286.jpg\"]\n",
    "train_paths = np.array([\"../data/partial_train/\" + path for path in partial_train_paths])\n",
    "features = np.random.randn(16,5)\n",
    "labels = np.array([0]*8 + [1]*8)\n",
    "print(f\"PATH SHAPE {train_paths.shape}\")\n",
    "print(f\"FEATURE SHAPE {features.shape}\")\n",
    "print(f\"LABEL SHAPE {labels.shape}\")"
   ]
  },
  {
   "cell_type": "markdown",
   "id": "middle-exception",
   "metadata": {},
   "source": [
    "# Serialize Data"
   ]
  },
  {
   "cell_type": "code",
   "execution_count": 16,
   "id": "printable-cradle",
   "metadata": {},
   "outputs": [],
   "source": [
    "\n",
    "# tf.Exambleに互換性のある型に変換する\n",
    "def _bytes_feature(value):\n",
    "    \"\"\"string / byte 型から byte_list を返す\"\"\"\n",
    "    if isinstance(value, type(tf.constant(0))):\n",
    "        value = value.numpy() # BytesList won't unpack a string from an EagerTensor.\n",
    "    return tf.train.Feature(bytes_list=tf.train.BytesList(value=[value]))\n",
    "\n",
    "def _float_feature(value):\n",
    "    \"\"\"float / double 型から float_list を返す\"\"\"\n",
    "    return tf.train.Feature(float_list=tf.train.FloatList(value=[value]))\n",
    "\n",
    "def _int64_feature(value):\n",
    "    \"\"\"bool / enum / int / uint 型から Int64_list を返す\"\"\"\n",
    "    return tf.train.Feature(int64_list=tf.train.Int64List(value=[value]))\n",
    "\n",
    "\n",
    "# 1つのdataをseriarizeする\n",
    "def serialize_example(image,feature0,feature1,feature2,feature3,feature4,label):\n",
    "    \"\"\"\n",
    "    ファイル出力可能な tf.Example メッセージを作成する\n",
    "    \"\"\"\n",
    "    feature = {\n",
    "        'image': _bytes_feature(image),\n",
    "        'feature0': _float_feature(feature0),\n",
    "        'feature1': _float_feature(feature1),\n",
    "        'feature2': _float_feature(feature2),\n",
    "        'feature3': _float_feature(feature3),\n",
    "        'feagure4': _float_feature(feature4), \n",
    "        'label' : _int64_feature(label)\n",
    "    }\n",
    "    example_proto = tf.train.Example(features=tf.train.Features(feature=feature))\n",
    "    return example_proto.SerializeToString()    "
   ]
  },
  {
   "cell_type": "markdown",
   "id": "essential-armstrong",
   "metadata": {},
   "source": [
    "# Image Decoder "
   ]
  },
  {
   "cell_type": "code",
   "execution_count": 19,
   "id": "configured-disorder",
   "metadata": {},
   "outputs": [],
   "source": [
    "def decoder(img_path):\n",
    "    file_byte = tf.io.read_file(img_path)\n",
    "    img = tf.io.decode_jpeg(file_byte,channels=3)\n",
    "    img = tf.cast(img,tf.float32) #float32にcast\n",
    "    img /= 255.0\n",
    "    img = tf.image.resize(img,[256,256])\n",
    "    return img"
   ]
  },
  {
   "cell_type": "markdown",
   "id": "respective-vertical",
   "metadata": {},
   "source": [
    "# Write TFRecord"
   ]
  },
  {
   "cell_type": "code",
   "execution_count": 26,
   "id": "crucial-steel",
   "metadata": {},
   "outputs": [
    {
     "data": {
      "text/plain": [
       "'\\ntfrecord_file_path = \"../data/partial_train_all.tfrec\"\\n\\nwith tf.io.TFRecordWriter(tfrecord_file_path) as writer:\\n    for path,f,label in zip(train_paths,features,labels):\\n        img = cv2.imread(path)\\n        img = cv2.resize(img, (256,256))\\n        img = cv2.imencode(\\'.jpg\\', img, (cv2.IMWRITE_JPEG_QUALITY, 199)[1].tostring()\\n        f0 = f[0]\\n        f1 = f[1]\\n        f2 = f[2] \\n        f3 = f[3] \\n        f4 = f[4]\\n        example = serialize_example(img,f0,f1,f2,f3,f4,label)\\n        writer.write(example)\\n'"
      ]
     },
     "execution_count": 26,
     "metadata": {},
     "output_type": "execute_result"
    }
   ],
   "source": [
    "'''\n",
    "tfrecord_file_path = \"../data/partial_train_all.tfrec\"\n",
    "\n",
    "with tf.io.TFRecordWriter(tfrecord_file_path) as writer:\n",
    "    for path,f,label in zip(train_paths,features,labels):\n",
    "        img = cv2.imread(path)\n",
    "        img = cv2.resize(img, (256,256))\n",
    "        img = cv2.imencode('.jpg', img, (cv2.IMWRITE_JPEG_QUALITY, 199)[1].tostring()\n",
    "        f0 = f[0]\n",
    "        f1 = f[1]\n",
    "        f2 = f[2] \n",
    "        f3 = f[3] \n",
    "        f4 = f[4]\n",
    "        example = serialize_example(img,f0,f1,f2,f3,f4,label)\n",
    "        writer.write(example)\n",
    "'''"
   ]
  },
  {
   "cell_type": "code",
   "execution_count": null,
   "id": "perfect-tourism",
   "metadata": {},
   "outputs": [],
   "source": []
  }
 ],
 "metadata": {
  "kernelspec": {
   "display_name": "Python 3",
   "language": "python",
   "name": "python3"
  },
  "language_info": {
   "codemirror_mode": {
    "name": "ipython",
    "version": 3
   },
   "file_extension": ".py",
   "mimetype": "text/x-python",
   "name": "python",
   "nbconvert_exporter": "python",
   "pygments_lexer": "ipython3",
   "version": "3.7.6"
  }
 },
 "nbformat": 4,
 "nbformat_minor": 5
}
